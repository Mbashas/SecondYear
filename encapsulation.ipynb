{
 "cells": [
  {
   "cell_type": "code",
   "execution_count": 30,
   "metadata": {},
   "outputs": [
    {
     "name": "stdout",
     "output_type": "stream",
     "text": [
      "John Doe is working on the QWEUITY project.\n",
      "Name: John Doe\n",
      "Salary: 100000\n",
      "Project: QWEUITY\n"
     ]
    }
   ],
   "source": [
    "class Employee:\n",
    "    def __init__(self, name, salary,project):\n",
    "        self.name = name\n",
    "        self.__salary = salary\n",
    "        self._project = project\n",
    "\n",
    "    def work(self):\n",
    "        print(f\"{self.name} is working on the {self._project} project.\")\n",
    "\n",
    "    def show(self):\n",
    "        print(f\"Name: {self.name}\")\n",
    "        print(f\"Salary: {self.__salary}\")\n",
    "        print(f\"Project: {self._project}\")\n",
    "        \n",
    "employee = Employee(\"John Doe\", 100000, \"QWEUITY\")\n",
    "\n",
    "employee.work()\n",
    "# Output: John Doe is working on the project project.\n",
    "\n",
    "employee.show()\n",
    "# Output:\n",
    "# Name: John Doe\n",
    "# Salary: 100000\n",
    "# Project: project\n",
    "\n",
    "    \n",
    "\n"
   ]
  },
  {
   "cell_type": "code",
   "execution_count": 37,
   "metadata": {},
   "outputs": [
    {
     "name": "stdout",
     "output_type": "stream",
     "text": [
      "34\n",
      "234539\n",
      "Mbasha\n",
      "18\n"
     ]
    }
   ],
   "source": [
    "class student:\n",
    "    def __init__(self,name,age,regNo):\n",
    "        self.name = name\n",
    "        self.__age = age\n",
    "        self.__regNo = regNo\n",
    "    def getAge(self):\n",
    "        return self.__age\n",
    "    def setAge(self, age):\n",
    "        self.__age = age\n",
    "        return self.__age\n",
    "    def getRegNo(self):\n",
    "        return self.__regNo\n",
    "    def setRegNo(self, regNo):\n",
    "        if regNo > 5:\n",
    "            print('Please write a correct')\n",
    "        else:\n",
    "            self.__regNo = regNo\n",
    "            return self.__regNo\n",
    "student=student(\"Mbasha\",34,234539)\n",
    "\n",
    "print(student.getAge())\n",
    "print(student.getRegNo())\n",
    "student.setAge(18)\n",
    "student.setRegNo(4)\n",
    "\n",
    "print(student.name)\n",
    "print(student.getAge())"
   ]
  }
 ],
 "metadata": {
  "kernelspec": {
   "display_name": "Python 3",
   "language": "python",
   "name": "python3"
  },
  "language_info": {
   "codemirror_mode": {
    "name": "ipython",
    "version": 3
   },
   "file_extension": ".py",
   "mimetype": "text/x-python",
   "name": "python",
   "nbconvert_exporter": "python",
   "pygments_lexer": "ipython3",
   "version": "3.11.6"
  }
 },
 "nbformat": 4,
 "nbformat_minor": 2
}
