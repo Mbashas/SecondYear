{
 "cells": [
  {
   "cell_type": "code",
   "execution_count": 3,
   "metadata": {},
   "outputs": [],
   "source": [
    "import tkinter as tk\n",
    "\n",
    "class Circle(object):\n",
    "    def __init__(self, center, radius):\n",
    "        self.center = center\n",
    "        self.radius = radius\n",
    "    def draw(self,canvas):\n",
    "        rad=self.radius\n",
    "        x1=self.center[0]-rad\n",
    "        y1=self.center[1]-rad\n",
    "        x2=self.center[0]+rad\n",
    "        y2=self.center[1]+rad\n",
    "        canvas.create_oval(x1,y1,x2,y2,fill='green')\n",
    "    def move(self,x,y):\n",
    "        self.center = [x,y]\n",
    "        \n",
    "# Create a new canvas object\n",
    "canvas = tk.Canvas(width=500, height=500)\n",
    "\n",
    "# Create a new Circle object\n",
    "circle = Circle([250, 250], 50)\n",
    "\n",
    "# Draw the circle on the canvas\n",
    "circle.draw(canvas)\n",
    "\n",
    "# Display the canvas object\n",
    "canvas.pack()\n",
    "canvas.mainloop()\n",
    "        \n",
    "        "
   ]
  }
 ],
 "metadata": {
  "kernelspec": {
   "display_name": "Python 3",
   "language": "python",
   "name": "python3"
  },
  "language_info": {
   "codemirror_mode": {
    "name": "ipython",
    "version": 3
   },
   "file_extension": ".py",
   "mimetype": "text/x-python",
   "name": "python",
   "nbconvert_exporter": "python",
   "pygments_lexer": "ipython3",
   "version": "3.11.6"
  }
 },
 "nbformat": 4,
 "nbformat_minor": 2
}
